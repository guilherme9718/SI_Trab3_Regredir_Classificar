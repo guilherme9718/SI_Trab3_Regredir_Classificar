{
 "cells": [
  {
   "cell_type": "markdown",
   "id": "398602f6-7bc0-409c-a609-77e8ee4b5415",
   "metadata": {},
   "source": [
    "# Deep learning"
   ]
  },
  {
   "cell_type": "code",
   "execution_count": 11,
   "id": "97b05276-8bba-4060-aee2-d350f7426f88",
   "metadata": {},
   "outputs": [
    {
     "name": "stderr",
     "output_type": "stream",
     "text": [
      "2022-06-21 17:27:31.930228: W tensorflow/stream_executor/platform/default/dso_loader.cc:64] Could not load dynamic library 'libcudart.so.11.0'; dlerror: libcudart.so.11.0: cannot open shared object file: No such file or directory\n",
      "2022-06-21 17:27:31.930276: I tensorflow/stream_executor/cuda/cudart_stub.cc:29] Ignore above cudart dlerror if you do not have a GPU set up on your machine.\n"
     ]
    }
   ],
   "source": [
    "from tensorflow.keras import models, layers, utils, backend as K\n",
    "import matplotlib.pyplot as plt\n",
    "import shap\n",
    "import pandas as pd\n",
    "import tensorflow as tf"
   ]
  },
  {
   "cell_type": "markdown",
   "id": "4b85e68b-e5ff-4c8d-b736-24c01360a231",
   "metadata": {},
   "source": [
    "importar parâmetros por json para testar várias possibilidades da rede neural"
   ]
  },
  {
   "cell_type": "code",
   "execution_count": 9,
   "id": "cb772903-9974-4c6e-9b57-f4ff87f847c6",
   "metadata": {},
   "outputs": [],
   "source": [
    "import datetime, json\n",
    "now = datetime.datetime.now()\n",
    "config = dict()\n",
    "config['date'] = \"{}_{}_{}-{}:{}\".format(now.day, now.month, now.year, now.hour, now.minute)\n",
    "config['hidden_layers'] = ['sigmoid', 'sigmoid']\n",
    "config['epoch'] = 50000\n",
    "config['normalization'] = 'standardScaler'\n",
    "config['optimizer'] = 'SGD'\n",
    "config['loss'] = 'mean_absolute_error'\n",
    "\n",
    "with open(\"parametros/regres_config_\" + config['date'] + \".json\", \"w\") as file:\n",
    "    json_content = json.dump(config, file, indent = 4)"
   ]
  },
  {
   "cell_type": "code",
   "execution_count": 12,
   "id": "7c4608f1-9edf-48e8-a2b0-436c4d952603",
   "metadata": {},
   "outputs": [
    {
     "name": "stdout",
     "output_type": "stream",
     "text": [
      "[[-1.32822746 -0.80499737 -0.3133257 ]\n",
      " [-1.35030829  0.7469566   0.55705413]\n",
      " [ 1.10974081  0.1845856  -1.10952296]\n",
      " ...\n",
      " [ 0.5515367   1.39476481 -0.35302883]\n",
      " [ 1.04175395 -0.29690057  1.25951643]\n",
      " [-0.17016771  0.90142652  1.42859837]]\n",
      "[[-1.32822746 -0.80499737 -0.3133257 ]\n",
      " [-1.35030829  0.7469566   0.55705413]\n",
      " [ 1.10974081  0.1845856  -1.10952296]\n",
      " ...\n",
      " [ 0.5515367   1.39476481 -0.35302883]\n",
      " [ 1.04175395 -0.29690057  1.25951643]\n",
      " [-0.17016771  0.90142652  1.42859837]] 0     -0.192937\n",
      "1      0.333476\n",
      "2     -0.241406\n",
      "3     -0.335470\n",
      "4     -0.233508\n",
      "         ...   \n",
      "795   -0.498761\n",
      "796   -0.181974\n",
      "797   -0.331672\n",
      "798    0.108509\n",
      "799   -0.103027\n",
      "Name: grav, Length: 800, dtype: float64\n",
      "0.5 -0.5\n"
     ]
    }
   ],
   "source": [
    "from sklearn.preprocessing import StandardScaler\n",
    "def load_data():\n",
    "    data = pd.read_csv('sinaisvitais_hist.txt', names=['id', 'pSis', 'pdiast', 'qPa', 'pulso', 'resp', 'grav', 'classe'])\n",
    "\n",
    "    X_variables = data.iloc[:, 3:6]\n",
    "    y_variables = data.iloc[:, 6]\n",
    "    return X_variables, y_variables\n",
    "\n",
    "from sklearn.model_selection import train_test_split\n",
    "#X, y = load_normalized_data_regression()\n",
    "scaler_x = StandardScaler()\n",
    "scaler_y = StandardScaler()\n",
    "X, y = load_data()\n",
    "scaler_x.fit(X)\n",
    "X = scaler_x.transform(X)\n",
    "print(X)\n",
    "y = (y-min(y)) / (max(y)-min(y)) - 0.5\n",
    "X_train, X_test, y_train, y_test = train_test_split(X, y, test_size=0.3, random_state=10)\n",
    "X_test = X_test\n",
    "y_test = y_test\n",
    "X_train = X_train\n",
    "y_train = y_train\n",
    "print(X, y)\n",
    "print(max(y), min(y))"
   ]
  },
  {
   "cell_type": "code",
   "execution_count": 200,
   "id": "80d99224-0fb9-4486-a2a0-d5ae638368de",
   "metadata": {},
   "outputs": [
    {
     "data": {
      "text/plain": [
       "array([[<AxesSubplot:title={'center':'0'}>,\n",
       "        <AxesSubplot:title={'center':'1'}>],\n",
       "       [<AxesSubplot:title={'center':'2'}>, <AxesSubplot:>]], dtype=object)"
      ]
     },
     "execution_count": 200,
     "metadata": {},
     "output_type": "execute_result"
    },
    {
     "data": {
      "image/png": "[encoded data removed]",
      "text/plain": [
       "<Figure size 432x288 with 4 Axes>"
      ]
     },
     "metadata": {
      "needs_background": "light"
     },
     "output_type": "display_data"
    }
   ],
   "source": [
    "pd.DataFrame(X).hist()"
   ]
  },
  {
   "cell_type": "code",
   "execution_count": 16,
   "id": "047b8258-b63d-498a-99e3-6527c9a1b8da",
   "metadata": {},
   "outputs": [
    {
     "name": "stdout",
     "output_type": "stream",
     "text": [
      "Model: \"Perceptron\"\n",
      "_________________________________________________________________\n",
      " Layer (type)                Output Shape              Param #   \n",
      "=================================================================\n",
      " input (InputLayer)          [(None, 3)]               0         \n",
      "                                                                 \n",
      " primeira (Dense)            (None, 3)                 12        \n",
      "                                                                 \n",
      " 0 (Dense)                   (None, 3)                 12        \n",
      "                                                                 \n",
      " 1 (Dense)                   (None, 3)                 12        \n",
      "                                                                 \n",
      " output (Dense)              (None, 1)                 4         \n",
      "                                                                 \n",
      "=================================================================\n",
      "Total params: 40\n",
      "Trainable params: 40\n",
      "Non-trainable params: 0\n",
      "_________________________________________________________________\n"
     ]
    }
   ],
   "source": [
    "initializer = tf.keras.initializers.RandomNormal(mean=0., stddev=1.)\n",
    "\n",
    "inputs = layers.Input(name=\"input\", shape=(3,))\n",
    "ant = layers.Dense(name=\"primeira\", units=3,activation='relu')(inputs)\n",
    "i = 0\n",
    "for layer in config['hidden_layers']:\n",
    "    atual = layers.Dense(name=str(i), units=3,activation=layer)(ant)\n",
    "    ant = atual\n",
    "    i+=1\n",
    "\n",
    "outputs = layers.Dense(name=\"output\", units=1, \n",
    "                       activation='sigmoid', kernel_initializer=initializer)(atual)\n",
    "model = models.Model(inputs=inputs, outputs=outputs, \n",
    "                     name=\"Perceptron\")\n",
    "model.summary()"
   ]
  },
  {
   "cell_type": "code",
   "execution_count": 170,
   "id": "01f94081-5201-4352-934a-7d4deaa7d16e",
   "metadata": {},
   "outputs": [
    {
     "data": {
      "text/plain": [
       "<tf.Tensor: shape=(800, 3), dtype=float32, numpy=\n",
       "array([[-1.3282274 , -0.8049972 , -0.31332573],\n",
       "       [-1.3503083 ,  0.7469568 ,  0.55705404],\n",
       "       [ 1.1097409 ,  0.18458574, -1.109523  ],\n",
       "       ...,\n",
       "       [ 0.55153674,  1.3947648 , -0.35302895],\n",
       "       [ 1.0417539 , -0.2969004 ,  1.2595164 ],\n",
       "       [-0.17016768,  0.90142655,  1.4285983 ]], dtype=float32)>"
      ]
     },
     "execution_count": 170,
     "metadata": {},
     "output_type": "execute_result"
    }
   ],
   "source": []
  },
  {
   "cell_type": "code",
   "execution_count": 17,
   "id": "52007932-a99b-4226-a263-146f25fc33aa",
   "metadata": {},
   "outputs": [
    {
     "data": {
      "image/png": "[encoded data removed]",
      "text/plain": [
       "<Figure size 720x576 with 1 Axes>"
      ]
     },
     "metadata": {
      "needs_background": "light"
     },
     "output_type": "display_data"
    }
   ],
   "source": [
    "def utils_nn_config(model):\n",
    "    lst_layers = []\n",
    "    if \"Sequential\" in str(model): #-> Sequential doesn't show the input layer\n",
    "        layer = model.layers[0]\n",
    "        lst_layers.append({\"name\":\"input\", \"in\":int(layer.input.shape[-1]), \"neurons\":0, \n",
    "                           \"out\":int(layer.input.shape[-1]), \"activation\":None,\n",
    "                           \"params\":0, \"bias\":0})\n",
    "    for layer in model.layers:\n",
    "        try:\n",
    "            dic_layer = {\"name\":layer.name, \"in\":int(layer.input.shape[-1]), \"neurons\":layer.units, \n",
    "                         \"out\":int(layer.output.shape[-1]), \"activation\":layer.get_config()[\"activation\"],\n",
    "                         \"params\":layer.get_weights()[0], \"bias\":layer.get_weights()[1]}\n",
    "        except:\n",
    "            dic_layer = {\"name\":layer.name, \"in\":int(layer.input.shape[-1]), \"neurons\":0, \n",
    "                         \"out\":int(layer.output.shape[-1]), \"activation\":None,\n",
    "                         \"params\":0, \"bias\":0}\n",
    "        lst_layers.append(dic_layer)\n",
    "    return lst_layers\n",
    "\n",
    "\n",
    "\n",
    "'''\n",
    "Plot the structure of a keras neural network.\n",
    "'''\n",
    "def visualize_nn(model, description=False, figsize=(10,8)):\n",
    "    ## get layers info\n",
    "    lst_layers = utils_nn_config(model)\n",
    "    layer_sizes = [layer[\"out\"] for layer in lst_layers]\n",
    "    \n",
    "    ## fig setup\n",
    "    fig = plt.figure(figsize=figsize)\n",
    "    ax = fig.gca()\n",
    "    ax.set(title=model.name)\n",
    "    ax.axis('off')\n",
    "    left, right, bottom, top = 0.1, 0.9, 0.1, 0.9\n",
    "    x_space = (right-left) / float(len(layer_sizes)-1)\n",
    "    y_space = (top-bottom) / float(max(layer_sizes))\n",
    "    p = 0.025\n",
    "    \n",
    "    ## nodes\n",
    "    for i,n in enumerate(layer_sizes):\n",
    "        top_on_layer = y_space*(n-1)/2.0 + (top+bottom)/2.0\n",
    "        layer = lst_layers[i]\n",
    "        color = \"green\" if i in [0, len(layer_sizes)-1] else \"blue\"\n",
    "        color = \"red\" if (layer['neurons'] == 0) and (i > 0) else color\n",
    "        \n",
    "        ### add description\n",
    "        if (description is True):\n",
    "            d = i if i == 0 else i-0.5\n",
    "            if layer['activation'] is None:\n",
    "                plt.text(x=left+d*x_space, y=top, fontsize=10, color=color, s=layer[\"name\"].upper())\n",
    "            else:\n",
    "                plt.text(x=left+d*x_space, y=top, fontsize=10, color=color, s=layer[\"name\"].upper())\n",
    "                plt.text(x=left+d*x_space, y=top-p, fontsize=10, color=color, s=layer['activation']+\" (\")\n",
    "                plt.text(x=left+d*x_space, y=top-2*p, fontsize=10, color=color, s=\"Σ\"+str(layer['in'])+\"[X*w]+b\")\n",
    "                out = \" Y\"  if i == len(layer_sizes)-1 else \" out\"\n",
    "                plt.text(x=left+d*x_space, y=top-3*p, fontsize=10, color=color, s=\") = \"+str(layer['neurons'])+out)\n",
    "        \n",
    "        ### circles\n",
    "        for m in range(n):\n",
    "            color = \"limegreen\" if color == \"green\" else color\n",
    "            circle = plt.Circle(xy=(left+i*x_space, top_on_layer-m*y_space-4*p), radius=y_space/4.0, color=color, ec='k', zorder=4)\n",
    "            ax.add_artist(circle)\n",
    "            \n",
    "            ### add text\n",
    "            if i == 0:\n",
    "                plt.text(x=left-4*p, y=top_on_layer-m*y_space-4*p, fontsize=10, s=r'$X_{'+str(m+1)+'}$')\n",
    "            elif i == len(layer_sizes)-1:\n",
    "                plt.text(x=right+4*p, y=top_on_layer-m*y_space-4*p, fontsize=10, s=r'$y_{'+str(m+1)+'}$')\n",
    "            else:\n",
    "                plt.text(x=left+i*x_space+p, y=top_on_layer-m*y_space+(y_space/8.+0.01*y_space)-4*p, fontsize=10, s=r'$H_{'+str(m+1)+'}$')\n",
    "    \n",
    "    ## links\n",
    "    for i, (n_a, n_b) in enumerate(zip(layer_sizes[:-1], layer_sizes[1:])):\n",
    "        layer = lst_layers[i+1]\n",
    "        color = \"green\" if i == len(layer_sizes)-2 else \"blue\"\n",
    "        color = \"red\" if layer['neurons'] == 0 else color\n",
    "        layer_top_a = y_space*(n_a-1)/2. + (top+bottom)/2. -4*p\n",
    "        layer_top_b = y_space*(n_b-1)/2. + (top+bottom)/2. -4*p\n",
    "        for m in range(n_a):\n",
    "            for o in range(n_b):\n",
    "                line = plt.Line2D([i*x_space+left, (i+1)*x_space+left], \n",
    "                                  [layer_top_a-m*y_space, layer_top_b-o*y_space], \n",
    "                                  c=color, alpha=0.5)\n",
    "                if layer['activation'] is None:\n",
    "                    if o == m:\n",
    "                        ax.add_artist(line)\n",
    "                else:\n",
    "                    ax.add_artist(line)\n",
    "    plt.show()\n",
    "visualize_nn(model)"
   ]
  },
  {
   "cell_type": "code",
   "execution_count": 18,
   "id": "a5dcdfcf-9dc8-40cb-af27-930785653d5f",
   "metadata": {},
   "outputs": [],
   "source": [
    "import tensorflow as tf\n",
    "def R2(y, y_hat):\n",
    "    ss_res =  K.sum(K.square(y - y_hat)) \n",
    "    ss_tot = K.sum(K.square(y - K.mean(y))) \n",
    "    return ( 1 - ss_res/(ss_tot + K.epsilon()) )\n",
    "# compile the neural network\n",
    "model.compile(optimizer=tf.keras.optimizers.SGD(\n",
    "    learning_rate=0.01)\n",
    ", loss=config['loss'], \n",
    "              metrics=[tf.keras.metrics.MeanSquaredError()])"
   ]
  },
  {
   "cell_type": "code",
   "execution_count": null,
   "id": "cd4c99f4-fd55-4731-a5f9-64a18eec675a",
   "metadata": {},
   "outputs": [],
   "source": [
    "log_dir = \"logs/fit/\" + datetime.datetime.now().strftime(\"%Y%m%d-%H%M%S\")\n",
    "tensorboard_callback = tf.keras.callbacks.TensorBoard(log_dir=log_dir, histogram_freq=1)\n",
    "\n",
    "chk = tf.keras.callbacks.ModelCheckpoint(\"myModel.h5\", monitor='val_loss', save_best_only=True) \n",
    "callbacks_list = [chk, tensorboard_callback]\n",
    "# train/validation\n",
    "training = model.fit(x=X, y=y, batch_size=64, epochs=config['epoch'], shuffle=True, verbose=0, validation_split=0.3, callbacks=callbacks_list)\n",
    "# plot\n",
    "metrics = [k for k in training.history.keys() if (\"loss\" not in k) and (\"val\" not in k)]    \n",
    "fig, ax = plt.subplots(nrows=1, ncols=2, sharey=True, figsize=(15,3))\n",
    "       \n",
    "## training    \n",
    "ax[0].set(title=\"Training\")\n",
    "ax11 = ax[0].twinx()\n",
    "ax[0].plot(training.history['loss'], color='black')\n",
    "ax[0].set_xlabel('Epochs')\n",
    "ax[0].set_ylabel('Loss', color='black')\n",
    "for metric in metrics:\n",
    "    ax11.plot(training.history[metric], label=metric)\n",
    "    ax11.set_ylabel(\"Score\", color='steelblue')\n",
    "ax11.legend()\n",
    "\n",
    "## validation    \n",
    "ax[1].set(title=\"Validation\")    \n",
    "ax22 = ax[1].twinx()    \n",
    "ax[1].plot(training.history['val_loss'], color='black')\n",
    "ax[1].set_xlabel('Epochs')\n",
    "ax[1].set_ylabel('Loss', color='black')    \n",
    "for metric in metrics:          \n",
    "    ax22.plot(training.history['val_'+metric], label=metric) \n",
    "    ax22.set_ylabel(\"Score\", color=\"steelblue\")    \n",
    "plt.show()"
   ]
  },
  {
   "cell_type": "code",
   "execution_count": 19,
   "id": "f595aa0d-3b9b-4647-abd4-33684714750d",
   "metadata": {},
   "outputs": [
    {
     "data": {
      "text/html": [
       "<div>\n",
       "<style scoped>\n",
       "    .dataframe tbody tr th:only-of-type {\n",
       "        vertical-align: middle;\n",
       "    }\n",
       "\n",
       "    .dataframe tbody tr th {\n",
       "        vertical-align: top;\n",
       "    }\n",
       "\n",
       "    .dataframe thead th {\n",
       "        text-align: right;\n",
       "    }\n",
       "</style>\n",
       "<table border=\"1\" class=\"dataframe\">\n",
       "  <thead>\n",
       "    <tr style=\"text-align: right;\">\n",
       "      <th></th>\n",
       "      <th>loss</th>\n",
       "      <th>mean_squared_error</th>\n",
       "      <th>val_loss</th>\n",
       "      <th>val_mean_squared_error</th>\n",
       "    </tr>\n",
       "  </thead>\n",
       "  <tbody>\n",
       "    <tr>\n",
       "      <th>0</th>\n",
       "      <td>0.420989</td>\n",
       "      <td>0.420989</td>\n",
       "      <td>0.389410</td>\n",
       "      <td>0.389410</td>\n",
       "    </tr>\n",
       "    <tr>\n",
       "      <th>1</th>\n",
       "      <td>0.358119</td>\n",
       "      <td>0.358119</td>\n",
       "      <td>0.332379</td>\n",
       "      <td>0.332379</td>\n",
       "    </tr>\n",
       "    <tr>\n",
       "      <th>2</th>\n",
       "      <td>0.307065</td>\n",
       "      <td>0.307065</td>\n",
       "      <td>0.286279</td>\n",
       "      <td>0.286279</td>\n",
       "    </tr>\n",
       "    <tr>\n",
       "      <th>3</th>\n",
       "      <td>0.266253</td>\n",
       "      <td>0.266253</td>\n",
       "      <td>0.249716</td>\n",
       "      <td>0.249716</td>\n",
       "    </tr>\n",
       "    <tr>\n",
       "      <th>4</th>\n",
       "      <td>0.233786</td>\n",
       "      <td>0.233786</td>\n",
       "      <td>0.220302</td>\n",
       "      <td>0.220302</td>\n",
       "    </tr>\n",
       "    <tr>\n",
       "      <th>...</th>\n",
       "      <td>...</td>\n",
       "      <td>...</td>\n",
       "      <td>...</td>\n",
       "      <td>...</td>\n",
       "    </tr>\n",
       "    <tr>\n",
       "      <th>995</th>\n",
       "      <td>0.076550</td>\n",
       "      <td>0.076550</td>\n",
       "      <td>0.072623</td>\n",
       "      <td>0.072623</td>\n",
       "    </tr>\n",
       "    <tr>\n",
       "      <th>996</th>\n",
       "      <td>0.076550</td>\n",
       "      <td>0.076550</td>\n",
       "      <td>0.072623</td>\n",
       "      <td>0.072623</td>\n",
       "    </tr>\n",
       "    <tr>\n",
       "      <th>997</th>\n",
       "      <td>0.076549</td>\n",
       "      <td>0.076549</td>\n",
       "      <td>0.072623</td>\n",
       "      <td>0.072623</td>\n",
       "    </tr>\n",
       "    <tr>\n",
       "      <th>998</th>\n",
       "      <td>0.076549</td>\n",
       "      <td>0.076549</td>\n",
       "      <td>0.072623</td>\n",
       "      <td>0.072623</td>\n",
       "    </tr>\n",
       "    <tr>\n",
       "      <th>999</th>\n",
       "      <td>0.076549</td>\n",
       "      <td>0.076549</td>\n",
       "      <td>0.072623</td>\n",
       "      <td>0.072623</td>\n",
       "    </tr>\n",
       "  </tbody>\n",
       "</table>\n",
       "<p>1000 rows × 4 columns</p>\n",
       "</div>"
      ],
      "text/plain": [
       "         loss  mean_squared_error  val_loss  val_mean_squared_error\n",
       "0    0.420989            0.420989  0.389410                0.389410\n",
       "1    0.358119            0.358119  0.332379                0.332379\n",
       "2    0.307065            0.307065  0.286279                0.286279\n",
       "3    0.266253            0.266253  0.249716                0.249716\n",
       "4    0.233786            0.233786  0.220302                0.220302\n",
       "..        ...                 ...       ...                     ...\n",
       "995  0.076550            0.076550  0.072623                0.072623\n",
       "996  0.076550            0.076550  0.072623                0.072623\n",
       "997  0.076549            0.076549  0.072623                0.072623\n",
       "998  0.076549            0.076549  0.072623                0.072623\n",
       "999  0.076549            0.076549  0.072623                0.072623\n",
       "\n",
       "[1000 rows x 4 columns]"
      ]
     },
     "execution_count": 19,
     "metadata": {},
     "output_type": "execute_result"
    }
   ],
   "source": [
    "history = pd.DataFrame(training.history)\n",
    "history"
   ]
  },
  {
   "cell_type": "code",
   "execution_count": 20,
   "id": "66a6a778-3a36-4656-a752-e8bd22b671e8",
   "metadata": {},
   "outputs": [
    {
     "name": "stdout",
     "output_type": "stream",
     "text": [
      "8/8 [==============================] - 0s 1ms/step\n"
     ]
    },
    {
     "data": {
      "text/html": [
       "<div>\n",
       "<style scoped>\n",
       "    .dataframe tbody tr th:only-of-type {\n",
       "        vertical-align: middle;\n",
       "    }\n",
       "\n",
       "    .dataframe tbody tr th {\n",
       "        vertical-align: top;\n",
       "    }\n",
       "\n",
       "    .dataframe thead th {\n",
       "        text-align: right;\n",
       "    }\n",
       "</style>\n",
       "<table border=\"1\" class=\"dataframe\">\n",
       "  <thead>\n",
       "    <tr style=\"text-align: right;\">\n",
       "      <th></th>\n",
       "      <th>real</th>\n",
       "      <th>previsao</th>\n",
       "    </tr>\n",
       "  </thead>\n",
       "  <tbody>\n",
       "    <tr>\n",
       "      <th>27</th>\n",
       "      <td>0.089903</td>\n",
       "      <td>0.000390</td>\n",
       "    </tr>\n",
       "    <tr>\n",
       "      <th>334</th>\n",
       "      <td>-0.395185</td>\n",
       "      <td>0.000382</td>\n",
       "    </tr>\n",
       "    <tr>\n",
       "      <th>730</th>\n",
       "      <td>-0.320218</td>\n",
       "      <td>0.000386</td>\n",
       "    </tr>\n",
       "    <tr>\n",
       "      <th>392</th>\n",
       "      <td>-0.499274</td>\n",
       "      <td>0.000390</td>\n",
       "    </tr>\n",
       "    <tr>\n",
       "      <th>495</th>\n",
       "      <td>0.259755</td>\n",
       "      <td>0.000391</td>\n",
       "    </tr>\n",
       "    <tr>\n",
       "      <th>...</th>\n",
       "      <td>...</td>\n",
       "      <td>...</td>\n",
       "    </tr>\n",
       "    <tr>\n",
       "      <th>390</th>\n",
       "      <td>0.127952</td>\n",
       "      <td>0.000391</td>\n",
       "    </tr>\n",
       "    <tr>\n",
       "      <th>20</th>\n",
       "      <td>0.310129</td>\n",
       "      <td>0.000390</td>\n",
       "    </tr>\n",
       "    <tr>\n",
       "      <th>220</th>\n",
       "      <td>0.254075</td>\n",
       "      <td>0.000390</td>\n",
       "    </tr>\n",
       "    <tr>\n",
       "      <th>16</th>\n",
       "      <td>0.126225</td>\n",
       "      <td>0.000390</td>\n",
       "    </tr>\n",
       "    <tr>\n",
       "      <th>553</th>\n",
       "      <td>-0.074932</td>\n",
       "      <td>0.000390</td>\n",
       "    </tr>\n",
       "  </tbody>\n",
       "</table>\n",
       "<p>240 rows × 2 columns</p>\n",
       "</div>"
      ],
      "text/plain": [
       "         real  previsao\n",
       "27   0.089903  0.000390\n",
       "334 -0.395185  0.000382\n",
       "730 -0.320218  0.000386\n",
       "392 -0.499274  0.000390\n",
       "495  0.259755  0.000391\n",
       "..        ...       ...\n",
       "390  0.127952  0.000391\n",
       "20   0.310129  0.000390\n",
       "220  0.254075  0.000390\n",
       "16   0.126225  0.000390\n",
       "553 -0.074932  0.000390\n",
       "\n",
       "[240 rows x 2 columns]"
      ]
     },
     "execution_count": 20,
     "metadata": {},
     "output_type": "execute_result"
    }
   ],
   "source": [
    "import pandas as pd\n",
    "predict = model.predict(X_test)\n",
    "df_predict = pd.DataFrame()\n",
    "df_predict['real'] = y_test\n",
    "df_predict['previsao'] = predict\n",
    "df_predict"
   ]
  },
  {
   "cell_type": "code",
   "execution_count": 103,
   "id": "83965b28-edcb-414d-adec-976d66a4d0a0",
   "metadata": {},
   "outputs": [
    {
     "name": "stdout",
     "output_type": "stream",
     "text": [
      "1/1 [==============================] - 0s 22ms/step\n",
      "[[0.52671725]] 0.5899033245519928\n"
     ]
    }
   ],
   "source": [
    "\n",
    "print(model.predict(X_test.iloc[0:1, :]), y_test.iloc[0])\n"
   ]
  },
  {
   "cell_type": "code",
   "execution_count": 115,
   "id": "835a4178-1ac6-43ac-b137-8f4a9e889f82",
   "metadata": {},
   "outputs": [
    {
     "name": "stdout",
     "output_type": "stream",
     "text": [
      "0.0671785735787591 0.2591882975343584 0.20563714215718 -0.14300702635731288\n"
     ]
    }
   ],
   "source": [
    "from sklearn.metrics import mean_squared_error, mean_absolute_error, r2_score\n",
    "from math import sqrt\n",
    "mse = mean_squared_error(y_test, predict)\n",
    "rmse = sqrt(mse)\n",
    "mae = mean_absolute_error(y_test, predict)\n",
    "r_squared = r2_score(y_test, predict)\n",
    "print(mse, rmse, mae, r_squared)"
   ]
  }
 ],
 "metadata": {
  "kernelspec": {
   "display_name": "Python 3 (ipykernel)",
   "language": "python",
   "name": "python3"
  },
  "language_info": {
   "codemirror_mode": {
    "name": "ipython",
    "version": 3
   },
   "file_extension": ".py",
   "mimetype": "text/x-python",
   "name": "python",
   "nbconvert_exporter": "python",
   "pygments_lexer": "ipython3",
   "version": "3.9.7"
  }
 },
 "nbformat": 4,
 "nbformat_minor": 5
}
